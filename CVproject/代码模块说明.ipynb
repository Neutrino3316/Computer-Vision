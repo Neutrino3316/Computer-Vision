{
 "cells": [
  {
   "cell_type": "markdown",
   "metadata": {},
   "source": [
    "模块：workspace\n",
    "    包含K和distortion(畸变系数）\n",
    "    \n",
    "模块：module 功能\n",
    "    函数：function1 功能\n",
    "        参数：调用方法\n",
    "        返回：类型/值\n",
    "    函数：function2 功能\n",
    "\n",
    "\n",
    "\n",
    "模块：oursift 图像匹配\n",
    "    函数：match_pts(imgname1, imgname2) \n",
    "        参数：不需要路径名\n",
    "        返回：pts1, pts2 （对应点列表的元组）\n",
    "\n",
    "\n",
    "模块："
   ]
  }
 ],
 "metadata": {
  "kernelspec": {
   "display_name": "Python 3",
   "language": "python",
   "name": "python3"
  },
  "language_info": {
   "codemirror_mode": {
    "name": "ipython",
    "version": 3
   },
   "file_extension": ".py",
   "mimetype": "text/x-python",
   "name": "python",
   "nbconvert_exporter": "python",
   "pygments_lexer": "ipython3",
   "version": "3.7.1"
  }
 },
 "nbformat": 4,
 "nbformat_minor": 2
}
