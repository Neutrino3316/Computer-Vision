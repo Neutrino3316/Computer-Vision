{
 "cells": [
  {
   "cell_type": "markdown",
   "metadata": {},
   "source": [
    "## load 参数"
   ]
  },
  {
   "cell_type": "code",
   "execution_count": 1,
   "metadata": {},
   "outputs": [],
   "source": [
    "import numpy as np\n",
    "import cv2\n",
    "import scipy.io as scio\n",
    "\n",
    "Params=scio.loadmat('workspace.mat')\n",
    "K = np.array(Params['K'])\n",
    "K = K.T\n",
    "distortion=np.array(Params['distortion'])"
   ]
  },
  {
   "cell_type": "markdown",
   "metadata": {},
   "source": [
    "## sift特征匹配"
   ]
  },
  {
   "cell_type": "code",
   "execution_count": 2,
   "metadata": {},
   "outputs": [],
   "source": [
    "import numpy as np\n",
    "import cv2\n",
    "from matplotlib import pyplot as plt\n",
    "\n",
    "imgpath = 'images/'\n",
    "MIN_MATCH_COUNT = 10\n",
    "\n",
    "def match_pts(imgname1, imgname2):\n",
    "    img1 = cv2.imread(imgpath+imgname1, 0)          # queryImage\n",
    "    img2 = cv2.imread(imgpath+imgname2, 0)        # trainImage\n",
    "\n",
    "    # Initiate SIFT detector\n",
    "    sift = cv2.xfeatures2d.SIFT_create()\n",
    "\n",
    "    # find the keypoints and descriptors with SIFT\n",
    "    kp1, des1 = sift.detectAndCompute(img1,None)\n",
    "    kp2, des2 = sift.detectAndCompute(img2,None)\n",
    "\n",
    "    FLANN_INDEX_KDTREE = 0\n",
    "    index_params = dict(algorithm = FLANN_INDEX_KDTREE, trees = 5)\n",
    "    search_params = dict(checks = 50)\n",
    "\n",
    "    flann = cv2.FlannBasedMatcher(index_params, search_params)\n",
    "\n",
    "    matches = flann.knnMatch(des1,des2,k=2)\n",
    "\n",
    "    # store all the good matches as per Lowe's ratio test.\n",
    "    good = []\n",
    "    pts1 = []\n",
    "    pts2 = []\n",
    "    \n",
    "    # ratio test as per Lowe's paper\n",
    "    for i,(m,n) in enumerate(matches):\n",
    "        if m.distance < 0.8*n.distance:\n",
    "            good.append(m)\n",
    "            pts2.append(kp2[m.trainIdx].pt)\n",
    "            pts1.append(kp1[m.queryIdx].pt)\n",
    "\n",
    "    pts1 = np.int32(pts1)\n",
    "    pts2 = np.int32(pts2)\n",
    "    # return the np.array type\n",
    "    return pts1, pts2"
   ]
  },
  {
   "cell_type": "markdown",
   "metadata": {},
   "source": [
    "# estimate估计参数"
   ]
  },
  {
   "cell_type": "code",
   "execution_count": 3,
   "metadata": {},
   "outputs": [],
   "source": [
    "from numpy import *\n",
    "from scipy import *\n",
    "from scipy.linalg import *\n",
    "from pylab import *\n",
    "import cv2\n",
    "import sys\n",
    "\n",
    "def find_fundamental(pts1, pts2):\n",
    "    F, mask = cv2.findFundamentalMat(pts1,pts2,cv2.FM_LMEDS)\n",
    "    return F\n",
    "    \n",
    "def find_essential(F, K1, K2):\n",
    "    return K2.T @ F @ K1\n",
    "\n",
    "def skew(a):\n",
    "    #Skew matrix A such that cross(a,v) = Av for any v\n",
    "    return array([[0,-a[2],a[1]],[a[2],0,-a[0]],[-a[1],a[0],0]])\n",
    "\n",
    "def anti_skew(A):\n",
    "    return array([A[2,1], A[2,0], A[1,0]])\n",
    "\n",
    "def triangulate(P1, P2, pts1, pts2):\n",
    "    n1 = pts1.shape[0]\n",
    "    n2 = pts2.shape[0]\n",
    "    \n",
    "    p1 = vstack([ pts1.T, ones(n1) ]).T\n",
    "    p2 = vstack([ pts2.T, ones(n2) ]).T\n",
    "    \n",
    "    P = zeros((n1, 4))\n",
    "    for i in range(n1):\n",
    "        cross1 = skew(p1[i])\n",
    "        cross2 = skew(p2[i])\n",
    "        Q = vstack([cross1 @ P1, cross2 @ P2])\n",
    "        U,S,VT = svd(Q)\n",
    "        z = VT[-1, :]\n",
    "        P[i, :] = z/z[3]\n",
    "    \n",
    "    return P[:, 0:3]\n",
    "\n",
    "def guess_rotation(E):\n",
    "    # make sure E is rank 2\n",
    "    U,S,V = svd(E)\n",
    "    if det(dot(U,V)) < 0:\n",
    "        V = -V\n",
    "    E = dot(U,dot(diag([1,1,0]),V))    \n",
    "\n",
    "    W = array([[0,-1,0],[1,0,0],[0,0,1]])\n",
    "        \n",
    "    R21 = dot(U,dot(W,V))\n",
    "    R22 = dot(U,dot(W.T,V))\n",
    "    \n",
    "    T21 = anti_skew(E @ R21.T) \n",
    "    T22 = anti_skew(E @ R22.T)\n",
    "    \n",
    "    return R21, T21, R22, T22\n",
    "\n",
    "def test_rotation(P1, P2, pts1, pts2):\n",
    "    #temp = cv2.triangulatePoints(P1, P2, transpose(pts1), transpose(pts2))\n",
    "    temp = triangulate(P1, P2, pts1, pts2)\n",
    "    for v in temp:\n",
    "        if v[-1] < 0:\n",
    "            return False\n",
    "    return True\n",
    "\n",
    "def errnum_rotation(P1, P2, pts1, pts2):\n",
    "    #temp = cv2.triangulatePoints(P1, P2, transpose(pts1), transpose(pts2))\n",
    "    temp = triangulate(P1, P2, pts1, pts2)\n",
    "    num = 0\n",
    "    for v in temp:\n",
    "        if v[-1] < 0:\n",
    "            num += 1\n",
    "    return num\n",
    "    \n",
    "\n",
    "def find_rotation(E, K1, K2, pts1, pts2):\n",
    "    R1 = eye(3)\n",
    "    T1 = array([0, 0, 0])\n",
    "    P1 = K1 @ vstack([R1.T, T1]).T\n",
    "    \n",
    "    R21, T21, R22, T22 = guess_rotation(E)\n",
    "    \n",
    "    P21 = K2 @ vstack([R21.T, T21]).T\n",
    "    P22 = K2 @ vstack([R22.T, T22]).T\n",
    "\n",
    "    #key1 = test_rotation(P1, P21, pts1, pts2)\n",
    "    #key2 = test_rotation(P1, P22, pts1, pts2)\n",
    "    \n",
    "    \n",
    "    errn1 = errnum_rotation(P1, P21, pts1, pts2)\n",
    "    errn2 = errnum_rotation(P1, P22, pts1, pts2)\n",
    "    \n",
    "    R2 = R21\n",
    "    T2 = T21\n",
    "\n",
    "    if T21[0] < 0:\n",
    "        R2 = R21\n",
    "        T2 = T21\n",
    "    elif T22[0] < 0:\n",
    "        R2 = R22\n",
    "        T2 = T22\n",
    "    else:\n",
    "        print('Can not find the right R matrix.')\n",
    "        sys.exit()\n",
    "\n",
    "    return R1, T1, R2, T2\n",
    "    \n",
    "def find_pose(R1, T1, R2, T2, K1, K2):\n",
    "    #return K @ vstack([R.T, T]).T\n",
    "    P1 = K1 @ vstack([R1.T, T1]).T\n",
    "    P2 = K2 @ vstack([R2.T, T2]).T\n",
    "    \n",
    "    return P1, P2\n"
   ]
  },
  {
   "cell_type": "markdown",
   "metadata": {},
   "source": [
    "## 运行"
   ]
  },
  {
   "cell_type": "code",
   "execution_count": 4,
   "metadata": {
    "scrolled": true
   },
   "outputs": [
    {
     "name": "stdout",
     "output_type": "stream",
     "text": [
      "(1340, 2)\n",
      "[[1. 0. 0.]\n",
      " [0. 1. 0.]\n",
      " [0. 0. 1.]]\n",
      "[0 0 0]\n",
      "[[ 0.99680378 -0.01337628  0.07876103]\n",
      " [ 0.01358739  0.99990539 -0.00214501]\n",
      " [-0.07872489  0.00320831  0.99689122]]\n",
      "[-0.9751416   0.00491469  0.22152812]\n"
     ]
    }
   ],
   "source": [
    "pts1, pts2 = match_pts('1_.jpg', '2_.jpg')\n",
    "print(pts1.shape)\n",
    "F = find_fundamental(pts1, pts2)\n",
    "E = find_essential(F, K, K)\n",
    "R1, T1, R2, T2 = find_rotation(E, K, K, pts1, pts2)\n",
    "\n",
    "print(R1, T1, R2, T2, sep='\\n')\n",
    "K1 = K\n",
    "K2 = K\n",
    "P1, P2 = find_pose(R1, T1, R2, T2, K1, K2)\n",
    "points = triangulate(P1, P2, pts1, pts2)"
   ]
  },
  {
   "cell_type": "markdown",
   "metadata": {},
   "source": [
    "## MVS多图"
   ]
  },
  {
   "cell_type": "code",
   "execution_count": 5,
   "metadata": {
    "scrolled": true
   },
   "outputs": [
    {
     "name": "stdout",
     "output_type": "stream",
     "text": [
      "<class 'numpy.ndarray'>\n"
     ]
    }
   ],
   "source": [
    "def sparse(imgname1, imgname2, K1, K2):\n",
    "    pts1, pts2 = match_pts(imgname1, imgname2)\n",
    "    F = find_fundamental(pts1, pts2)\n",
    "    E = find_essential(F, K1, K2)\n",
    "    \n",
    "    R1, T1, R2, T2 = find_rotation(E, K1, K2, pts1, pts2)\n",
    "    \n",
    "    P1, P2 = find_pose(R1, T1, R2, T2, K1, K2)\n",
    "    \n",
    "    X = triangulate(P1, P2, pts1, pts2)\n",
    "    R = R2\n",
    "    T = T2\n",
    "    \n",
    "    return X, R, T\n",
    "\n",
    "X, R, T = sparse('1_.jpg', '2_.jpg', K, K)\n",
    "print(type(X))"
   ]
  },
  {
   "cell_type": "code",
   "execution_count": 6,
   "metadata": {},
   "outputs": [
    {
     "name": "stdout",
     "output_type": "stream",
     "text": [
      "68 1272\n"
     ]
    }
   ],
   "source": [
    "zz = 0\n",
    "ff = 0\n",
    "for i in range(len(X)):\n",
    "    if X[i][2] < 0:\n",
    "        ff += 1\n",
    "    else:\n",
    "        zz += 1\n",
    "print(ff, zz)"
   ]
  },
  {
   "cell_type": "markdown",
   "metadata": {},
   "source": [
    "## 多图融合"
   ]
  },
  {
   "cell_type": "code",
   "execution_count": 7,
   "metadata": {},
   "outputs": [
    {
     "name": "stdout",
     "output_type": "stream",
     "text": [
      "0 [[ -8.39558971 -10.27431466  22.13363896]\n",
      " [ -5.13965252  -5.21712877  14.02206751]\n",
      " [ -4.82951437   5.75686926  13.37125398]\n",
      " [ -5.75668715  -4.85081324  15.05946156]\n",
      " [ -4.90298465  -4.55609082  13.48946696]\n",
      " [ -4.97850451   6.05451593  13.86310917]\n",
      " [ -5.14078813   2.52998535  14.35758407]\n",
      " [ -3.20902878   2.58384161   9.0981869 ]\n",
      " [ -4.08513605   1.72876616  11.5925245 ]\n",
      " [ -5.2637713   -5.91326255  14.88697377]]\n",
      "[[ 0.99680378 -0.01337628  0.07876103]\n",
      " [ 0.01358739  0.99990539 -0.00214501]\n",
      " [-0.07872489  0.00320831  0.99689122]] [-0.9751416   0.00491469  0.22152812]\n",
      "1 [[ 0.05964713  0.52510378 -1.38823431]\n",
      " [-0.31172133  0.46148397  1.37208549]\n",
      " [-0.31201987  0.46078908  1.37365868]\n",
      " [-0.44849958  0.24618113  1.97774249]\n",
      " [ 0.05417247  0.13777421  0.17497501]\n",
      " [ 0.68216911  0.87908251 -2.23902287]\n",
      " [ 0.98210732  2.09423169 -4.41921922]\n",
      " [ 0.70410677  0.44162732 -2.90240041]\n",
      " [ 0.63685409  0.80797834 -2.08863421]\n",
      " [ 0.69870712  0.43093403 -2.89541509]]\n",
      "[[ 0.92265241  0.35112124  0.1594566 ]\n",
      " [-0.31487827  0.92466127 -0.21413362]\n",
      " [-0.2226302   0.14736148  0.9637014 ]] [-0.03687106 -0.54088425 -0.84028849]\n",
      "2 [[ 1.09605538  0.22854128 -1.88733059]\n",
      " [ 0.45890857  0.58492356 -1.25091624]\n",
      " [ 0.30011125  0.05939291 -0.57682012]\n",
      " [ 0.1037217   0.23050362 -0.80169574]\n",
      " [ 0.39993723 -0.55028568 -1.08804885]\n",
      " [ 1.15339312  0.41340625 -2.20588391]\n",
      " [ 0.32147524 -0.06699611 -0.78991641]\n",
      " [ 1.01984163  0.4471659  -1.85809105]\n",
      " [ 0.53849442  0.4638009  -1.19261543]\n",
      " [ 0.55393471  0.46880397 -1.18962655]]\n",
      "[[ 0.82251897 -0.38479223 -0.41880483]\n",
      " [-0.39702828 -0.91573583  0.0616152 ]\n",
      " [-0.40722364  0.11559769 -0.90598349]] [-0.89249791 -0.21877314  0.39444365]\n",
      "(2026, 3)\n"
     ]
    }
   ],
   "source": [
    "def multi_sparse(imgs, K):\n",
    "    n = len(imgs)\n",
    "    xn = n-1\n",
    "    Xs = []\n",
    "    Rs = []\n",
    "    Ts = []\n",
    "    for i in range(xn):\n",
    "        Xtemp, Rtemp, Ttemp = sparse(imgs[i], imgs[i+1], K, K)\n",
    "        print(i, Xtemp[10:20,])\n",
    "        print(Rtemp, Ttemp)\n",
    "        \n",
    "        Xs.append(Xtemp)\n",
    "        Rs.append(Rtemp)\n",
    "        Ts.append(Ttemp)\n",
    "    \n",
    "    X = Xs[0]\n",
    "\n",
    "    for i in range(1, xn):\n",
    "        newX = Xs[i]\n",
    "        nn = newX.shape[0]\n",
    "        newX = newX.T\n",
    "        for j in range(1, i + 1):\n",
    "            newX = vstack([Rs[i-j].T, Ts[i-j]]).T @ vstack([newX, ones(nn)])\n",
    "        newX = newX.T\n",
    "        X = vstack([X, newX])\n",
    "        \n",
    "    return X\n",
    "    \n",
    "imgs = ['1_.jpg', '2_.jpg', '3_.jpg', '4_.jpg', '5_.jpg', '6_.jpg']\n",
    "X = multi_sparse(imgs[:4], K)\n",
    "print(X.shape)"
   ]
  },
  {
   "cell_type": "code",
   "execution_count": 8,
   "metadata": {},
   "outputs": [
    {
     "name": "stdout",
     "output_type": "stream",
     "text": [
      "[[-0.43200328 -0.02935312 -2.62225017]\n",
      " [-0.7042851  -0.01103257 -1.84742333]\n",
      " [-0.68783257 -0.01168466 -1.84854386]\n",
      " [-1.11268788 -1.05320654 -1.83454405]\n",
      " [-0.50639417  0.18318661 -2.64628221]\n",
      " [-0.47857243 -2.45043829  1.25741248]\n",
      " [-0.20863968  1.23486396 -4.0034544 ]\n",
      " [-0.24064241  0.91499464 -3.64221586]\n",
      " [-0.32965681  0.28872281 -3.01313037]\n",
      " [-1.26072485 -1.03251414 -1.9034581 ]]\n",
      "*****[[-2.16473343  7.39462783 -9.3044365 ]\n",
      " [-2.4568916   0.01109327 -4.45500386]\n",
      " [-2.07979173 -0.50729613 -2.55496845]\n",
      " [-1.90994677 -0.17060633 -2.75879771]\n",
      " [-1.91416087  1.33033592 -3.93944817]\n",
      " [-1.96627216  1.85508184 -4.47578521]\n",
      " [-1.96198943  0.19031885 -2.43652036]\n",
      " [-1.95428361  0.96184869 -3.73680131]\n",
      " [-1.54242904 -0.26856018 -2.36429069]\n",
      " [-2.00618626  2.03445632 -4.67768973]]\n",
      "*****[]\n"
     ]
    }
   ],
   "source": [
    "print(X[1500:1510,], X[1800:1810,], X[3020:3030, ], sep='\\n*****')"
   ]
  },
  {
   "cell_type": "code",
   "execution_count": 9,
   "metadata": {},
   "outputs": [
    {
     "name": "stdout",
     "output_type": "stream",
     "text": [
      "[[ 1.75403911e-07  1.56012202e-05 -1.11554963e-02]\n",
      " [-9.83158864e-06  2.27223274e-07 -5.96975343e-02]\n",
      " [ 7.55013245e-03  5.70905777e-02  1.00000000e+00]]\n"
     ]
    }
   ],
   "source": [
    "print(F)"
   ]
  },
  {
   "cell_type": "code",
   "execution_count": 10,
   "metadata": {},
   "outputs": [
    {
     "name": "stdout",
     "output_type": "stream",
     "text": [
      "[[ 1.75403911e-07  1.56012202e-05 -1.11554963e-02]\n",
      " [-9.83158864e-06  2.27223274e-07 -5.96975343e-02]\n",
      " [ 7.55013245e-03  5.70905777e-02  1.00000000e+00]]\n",
      "1.0070045796023517\n"
     ]
    }
   ],
   "source": [
    "Farr = array(F)\n",
    "print(Farr)\n",
    "print(trace(Farr.T @ Farr))"
   ]
  },
  {
   "cell_type": "code",
   "execution_count": 11,
   "metadata": {},
   "outputs": [
    {
     "name": "stdout",
     "output_type": "stream",
     "text": [
      "[[  0.16376032  14.54592283   0.2322583 ]\n",
      " [ -9.16656054   0.21156744 -62.98278073]\n",
      " [  0.51749039  64.03419144  -0.37492419]]\n",
      "8363.351932203246\n"
     ]
    }
   ],
   "source": [
    "Earr = array(E)\n",
    "print(Earr)\n",
    "print(trace(Earr.T @ Earr))"
   ]
  },
  {
   "cell_type": "code",
   "execution_count": null,
   "metadata": {},
   "outputs": [],
   "source": []
  }
 ],
 "metadata": {
  "kernelspec": {
   "display_name": "Python 3",
   "language": "python",
   "name": "python3"
  },
  "language_info": {
   "codemirror_mode": {
    "name": "ipython",
    "version": 3
   },
   "file_extension": ".py",
   "mimetype": "text/x-python",
   "name": "python",
   "nbconvert_exporter": "python",
   "pygments_lexer": "ipython3",
   "version": "3.7.1"
  }
 },
 "nbformat": 4,
 "nbformat_minor": 2
}
