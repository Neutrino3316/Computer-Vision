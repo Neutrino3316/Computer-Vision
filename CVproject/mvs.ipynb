{
 "cells": [
  {
   "cell_type": "markdown",
   "metadata": {},
   "source": [
    "## load 参数"
   ]
  },
  {
   "cell_type": "code",
   "execution_count": 27,
   "metadata": {},
   "outputs": [],
   "source": [
    "import numpy as np\n",
    "import cv2\n",
    "import scipy.io as scio\n",
    "\n",
    "Params=scio.loadmat('workspace.mat')\n",
    "K = np.array(Params['K'])\n",
    "K = K.T\n",
    "distortion=np.array(Params['distortion'])"
   ]
  },
  {
   "cell_type": "markdown",
   "metadata": {},
   "source": [
    "## sift特征匹配"
   ]
  },
  {
   "cell_type": "code",
   "execution_count": 28,
   "metadata": {},
   "outputs": [],
   "source": [
    "import numpy as np\n",
    "import cv2\n",
    "from matplotlib import pyplot as plt\n",
    "\n",
    "imgpath = 'images/'\n",
    "MIN_MATCH_COUNT = 10\n",
    "\n",
    "def match_pts(imgname1, imgname2):\n",
    "    img1 = cv2.imread(imgpath+imgname1, 0)          # queryImage\n",
    "    img2 = cv2.imread(imgpath+imgname2, 0)        # trainImage\n",
    "\n",
    "    # Initiate SIFT detector\n",
    "    sift = cv2.xfeatures2d.SIFT_create()\n",
    "\n",
    "    # find the keypoints and descriptors with SIFT\n",
    "    kp1, des1 = sift.detectAndCompute(img1,None)\n",
    "    kp2, des2 = sift.detectAndCompute(img2,None)\n",
    "\n",
    "    FLANN_INDEX_KDTREE = 0\n",
    "    index_params = dict(algorithm = FLANN_INDEX_KDTREE, trees = 5)\n",
    "    search_params = dict(checks = 50)\n",
    "\n",
    "    flann = cv2.FlannBasedMatcher(index_params, search_params)\n",
    "\n",
    "    matches = flann.knnMatch(des1,des2,k=2)\n",
    "\n",
    "    # store all the good matches as per Lowe's ratio test.\n",
    "    good = []\n",
    "    pts1 = []\n",
    "    pts2 = []\n",
    "    \n",
    "    # ratio test as per Lowe's paper\n",
    "    for i,(m,n) in enumerate(matches):\n",
    "        if m.distance < 0.8*n.distance:\n",
    "            good.append(m)\n",
    "            pts2.append(kp2[m.trainIdx].pt)\n",
    "            pts1.append(kp1[m.queryIdx].pt)\n",
    "\n",
    "    pts1 = np.int32(pts1)\n",
    "    pts2 = np.int32(pts2)\n",
    "    # return the np.array type\n",
    "    return pts1, pts2"
   ]
  },
  {
   "cell_type": "markdown",
   "metadata": {},
   "source": [
    "# estimate估计参数"
   ]
  },
  {
   "cell_type": "code",
   "execution_count": 29,
   "metadata": {},
   "outputs": [],
   "source": [
    "from numpy import *\n",
    "from scipy import *\n",
    "from scipy.linalg import *\n",
    "from pylab import *\n",
    "import cv2\n",
    "import sys\n",
    "\n",
    "def find_fundamental(pts1, pts2):\n",
    "    F, mask = cv2.findFundamentalMat(pts1,pts2,cv2.FM_LMEDS)\n",
    "    return F\n",
    "    \n",
    "def find_essential(F, K1, K2):\n",
    "    return K2.T @ F @ K1\n",
    "\n",
    "def skew(a):\n",
    "    #Skew matrix A such that cross(a,v) = Av for any v\n",
    "    return array([[0,-a[2],a[1]],[a[2],0,-a[0]],[-a[1],a[0],0]])\n",
    "\n",
    "def anti_skew(A):\n",
    "    return array([A[2,1], A[2,0], A[1,0]])\n",
    "\n",
    "def triangulate(P1, P2, pts1, pts2):\n",
    "    n1 = pts1.shape[0]\n",
    "    n2 = pts2.shape[0]\n",
    "    \n",
    "    p1 = vstack([ pts1.T, ones(n1) ]).T\n",
    "    p2 = vstack([ pts2.T, ones(n2) ]).T\n",
    "    \n",
    "    P = zeros((n1, 4))\n",
    "    for i in range(n1):\n",
    "        cross1 = skew(p1[i])\n",
    "        cross2 = skew(p2[i])\n",
    "        Q = vstack([cross1 @ P1, cross2 @ P2])\n",
    "        U,S,VT = svd(Q)\n",
    "        z = VT[-1, :]\n",
    "        P[i, :] = z/z[3]\n",
    "    \n",
    "    return P[:, 0:3]\n",
    "\n",
    "def guess_rotation(E):\n",
    "    # make sure E is rank 2\n",
    "    U,S,V = svd(E)\n",
    "    if det(dot(U,V)) < 0:\n",
    "        V = -V\n",
    "    E = dot(U,dot(diag([1,1,0]),V))    \n",
    "\n",
    "    W = array([[0,-1,0],[1,0,0],[0,0,1]])\n",
    "        \n",
    "    R21 = dot(U,dot(W,V))\n",
    "    R22 = dot(U,dot(W.T,V))\n",
    "    \n",
    "    T21 = anti_skew(E @ R21.T) \n",
    "    T22 = anti_skew(E @ R22.T)\n",
    "    \n",
    "    return R21, T21, R22, T22\n",
    "\n",
    "def test_rotation(P1, P2, pts1, pts2):\n",
    "    #temp = cv2.triangulatePoints(P1, P2, transpose(pts1), transpose(pts2))\n",
    "    temp = triangulate(P1, P2, pts1, pts2)\n",
    "    for v in temp:\n",
    "        if v[-1] < 0:\n",
    "            return False\n",
    "    return True\n",
    "\n",
    "def errnum_rotation(P1, P2, pts1, pts2):\n",
    "    #temp = cv2.triangulatePoints(P1, P2, transpose(pts1), transpose(pts2))\n",
    "    temp = triangulate(P1, P2, pts1, pts2)\n",
    "    num = 0\n",
    "    for v in temp:\n",
    "        if v[-1] < 0:\n",
    "            num += 1\n",
    "    return num\n",
    "\n",
    "def find_rotation(E, K1, K2, pts1, pts2):\n",
    "    R1 = eye(3)\n",
    "    T1 = array([0, 0, 0])\n",
    "    P1 = K1 @ vstack([R1.T, T1]).T\n",
    "    \n",
    "    R21, T21, R22, T22 = guess_rotation(E)\n",
    "    \n",
    "    P21 = K2 @ vstack([R21.T, T21]).T\n",
    "    P22 = K2 @ vstack([R22.T, T22]).T\n",
    "\n",
    "    #key1 = test_rotation(P1, P21, pts1, pts2)\n",
    "    #key2 = test_rotation(P1, P22, pts1, pts2)\n",
    "    \n",
    "    \n",
    "    errn1 = errnum_rotation(P1, P21, pts1, pts2)\n",
    "    errn2 = errnum_rotation(P1, P22, pts1, pts2)\n",
    "    \n",
    "    R2 = R21\n",
    "    T2 = T21\n",
    "\n",
    "    if errn1 < errn2:\n",
    "        R2 = R21\n",
    "        T2 = T21\n",
    "    elif errn2 < errn1:\n",
    "        R2 = R22\n",
    "        T2 = T22\n",
    "    else:\n",
    "        print('Can not find the right R matrix.')\n",
    "        sys.exit()\n",
    "\n",
    "    return R1, T1, R2, T2\n",
    "    \n",
    "def find_pose(R1, T1, R2, T2, K1, K2):\n",
    "    P1 = K1 @ vstack([R1.T, T1]).T\n",
    "    P2 = K2 @ vstack([R2.T, T2]).T\n",
    "    \n",
    "    return P1, P2\n"
   ]
  },
  {
   "cell_type": "markdown",
   "metadata": {},
   "source": [
    "## 运行"
   ]
  },
  {
   "cell_type": "code",
   "execution_count": 30,
   "metadata": {
    "scrolled": true
   },
   "outputs": [
    {
     "name": "stdout",
     "output_type": "stream",
     "text": [
      "(683, 2)\n",
      "[[1. 0. 0.]\n",
      " [0. 1. 0.]\n",
      " [0. 0. 1.]]\n",
      "[0 0 0]\n",
      "[[ 0.78399147  0.11398967  0.61021614]\n",
      " [ 0.10804562 -0.99304898  0.04668916]\n",
      " [ 0.61129659  0.02932727 -0.79085801]]\n",
      "[-0.95967927  0.03935584 -0.27832862]\n"
     ]
    }
   ],
   "source": [
    "pts1, pts2 = match_pts('1.jpg', '2.jpg')\n",
    "print(pts1.shape)\n",
    "F = find_fundamental(pts1, pts2)\n",
    "E = find_essential(F, K, K)\n",
    "R1, T1, R2, T2 = find_rotation(E, K, K, pts1, pts2)\n",
    "\n",
    "print(R1, T1, R2, T2, sep='\\n')\n",
    "K1 = K\n",
    "K2 = K\n",
    "P1, P2 = find_pose(R1, T1, R2, T2, K1, K2)\n",
    "points = triangulate(P1, P2, pts1, pts2)"
   ]
  },
  {
   "cell_type": "code",
   "execution_count": 31,
   "metadata": {
    "scrolled": true
   },
   "outputs": [
    {
     "name": "stdout",
     "output_type": "stream",
     "text": [
      "[[-0.14274509  0.97119732  1.94636403]\n",
      " [ 1.15145261  0.25785249  0.03718155]\n",
      " [ 0.53287348 -0.18771554  1.28735497]\n",
      " ...\n",
      " [ 0.31410651  0.43721357  0.66284998]\n",
      " [ 0.33503535  0.31914735  0.65717057]\n",
      " [ 0.34988361  0.09882088  0.87205219]]\n"
     ]
    }
   ],
   "source": [
    "#print(K, F, E, sep='\\n')\n",
    "print(points[100:1010, ])"
   ]
  },
  {
   "cell_type": "markdown",
   "metadata": {},
   "source": [
    "## MVS多图"
   ]
  },
  {
   "cell_type": "code",
   "execution_count": 32,
   "metadata": {
    "scrolled": true
   },
   "outputs": [
    {
     "name": "stdout",
     "output_type": "stream",
     "text": [
      "0 [[-0.35661128 -0.43659305  0.93034978]\n",
      " [-0.34301304 -0.34980693  0.92813531]\n",
      " [-0.33386419  0.39211506  0.92167546]\n",
      " [-0.34851695 -0.29648506  0.90495577]\n",
      " [-0.34077716 -0.31871689  0.93038593]\n",
      " [-0.33400331  0.40028925  0.92735175]\n",
      " [-0.33617337  0.16014765  0.93541626]\n",
      " [-0.32150419  0.25339911  0.90837155]\n",
      " [-0.32938769  0.13424337  0.93105858]\n",
      " [-0.34082633 -0.38378825  0.95494034]]\n",
      "[[ 9.33062652e-01 -3.86475291e-03 -3.59693134e-01]\n",
      " [-3.86090148e-03 -9.99992281e-01  7.29121780e-04]\n",
      " [-3.59693175e-01  7.08423451e-04 -9.33070371e-01]] [ 0.9751416  -0.00491469 -0.22152812]\n"
     ]
    },
    {
     "ename": "error",
     "evalue": "OpenCV(3.4.2) C:\\projects\\opencv-python\\opencv_contrib\\modules\\xfeatures2d\\src\\sift.cpp:1121: error: (-5:Bad argument) image is empty or has incorrect depth (!=CV_8U) in function 'cv::xfeatures2d::SIFT_Impl::detectAndCompute'\n",
     "output_type": "error",
     "traceback": [
      "\u001b[1;31m---------------------------------------------------------------------------\u001b[0m",
      "\u001b[1;31merror\u001b[0m                                     Traceback (most recent call last)",
      "\u001b[1;32m<ipython-input-32-9354ad334df8>\u001b[0m in \u001b[0;36m<module>\u001b[1;34m\u001b[0m\n\u001b[0;32m     43\u001b[0m \u001b[1;33m\u001b[0m\u001b[0m\n\u001b[0;32m     44\u001b[0m \u001b[0mimgs\u001b[0m \u001b[1;33m=\u001b[0m \u001b[1;33m[\u001b[0m\u001b[1;34m'1_.jpg'\u001b[0m\u001b[1;33m,\u001b[0m \u001b[1;34m'2_.jpg'\u001b[0m\u001b[1;33m,\u001b[0m \u001b[1;34m'3_.jpg'\u001b[0m\u001b[1;33m,\u001b[0m \u001b[1;34m'4_.jpg'\u001b[0m\u001b[1;33m,\u001b[0m \u001b[1;34m'5_.jpg'\u001b[0m\u001b[1;33m,\u001b[0m \u001b[1;34m'6_.jpg'\u001b[0m\u001b[1;33m]\u001b[0m\u001b[1;33m\u001b[0m\u001b[1;33m\u001b[0m\u001b[0m\n\u001b[1;32m---> 45\u001b[1;33m \u001b[0mX\u001b[0m \u001b[1;33m=\u001b[0m \u001b[0mmulti_sparse\u001b[0m\u001b[1;33m(\u001b[0m\u001b[0mimgs\u001b[0m\u001b[1;33m,\u001b[0m \u001b[0mK\u001b[0m\u001b[1;33m)\u001b[0m\u001b[1;33m\u001b[0m\u001b[1;33m\u001b[0m\u001b[0m\n\u001b[0m\u001b[0;32m     46\u001b[0m \u001b[0mprint\u001b[0m\u001b[1;33m(\u001b[0m\u001b[0mX\u001b[0m\u001b[1;33m.\u001b[0m\u001b[0mshape\u001b[0m\u001b[1;33m)\u001b[0m\u001b[1;33m\u001b[0m\u001b[1;33m\u001b[0m\u001b[0m\n",
      "\u001b[1;32m<ipython-input-32-9354ad334df8>\u001b[0m in \u001b[0;36mmulti_sparse\u001b[1;34m(imgs, K)\u001b[0m\n\u001b[0;32m     21\u001b[0m     \u001b[0mTs\u001b[0m \u001b[1;33m=\u001b[0m \u001b[1;33m[\u001b[0m\u001b[1;33m]\u001b[0m\u001b[1;33m\u001b[0m\u001b[1;33m\u001b[0m\u001b[0m\n\u001b[0;32m     22\u001b[0m     \u001b[1;32mfor\u001b[0m \u001b[0mi\u001b[0m \u001b[1;32min\u001b[0m \u001b[0mrange\u001b[0m\u001b[1;33m(\u001b[0m\u001b[0mxn\u001b[0m\u001b[1;33m)\u001b[0m\u001b[1;33m:\u001b[0m\u001b[1;33m\u001b[0m\u001b[1;33m\u001b[0m\u001b[0m\n\u001b[1;32m---> 23\u001b[1;33m         \u001b[0mXtemp\u001b[0m\u001b[1;33m,\u001b[0m \u001b[0mRtemp\u001b[0m\u001b[1;33m,\u001b[0m \u001b[0mTtemp\u001b[0m \u001b[1;33m=\u001b[0m \u001b[0msparse\u001b[0m\u001b[1;33m(\u001b[0m\u001b[0mimgs\u001b[0m\u001b[1;33m[\u001b[0m\u001b[0mi\u001b[0m\u001b[1;33m]\u001b[0m\u001b[1;33m,\u001b[0m \u001b[0mimgs\u001b[0m\u001b[1;33m[\u001b[0m\u001b[0mi\u001b[0m\u001b[1;33m+\u001b[0m\u001b[1;36m1\u001b[0m\u001b[1;33m]\u001b[0m\u001b[1;33m,\u001b[0m \u001b[0mK\u001b[0m\u001b[1;33m,\u001b[0m \u001b[0mK\u001b[0m\u001b[1;33m)\u001b[0m\u001b[1;33m\u001b[0m\u001b[1;33m\u001b[0m\u001b[0m\n\u001b[0m\u001b[0;32m     24\u001b[0m         \u001b[0mprint\u001b[0m\u001b[1;33m(\u001b[0m\u001b[0mi\u001b[0m\u001b[1;33m,\u001b[0m \u001b[0mXtemp\u001b[0m\u001b[1;33m[\u001b[0m\u001b[1;36m10\u001b[0m\u001b[1;33m:\u001b[0m\u001b[1;36m20\u001b[0m\u001b[1;33m,\u001b[0m\u001b[1;33m]\u001b[0m\u001b[1;33m)\u001b[0m\u001b[1;33m\u001b[0m\u001b[1;33m\u001b[0m\u001b[0m\n\u001b[0;32m     25\u001b[0m         \u001b[0mprint\u001b[0m\u001b[1;33m(\u001b[0m\u001b[0mRtemp\u001b[0m\u001b[1;33m,\u001b[0m \u001b[0mTtemp\u001b[0m\u001b[1;33m)\u001b[0m\u001b[1;33m\u001b[0m\u001b[1;33m\u001b[0m\u001b[0m\n",
      "\u001b[1;32m<ipython-input-32-9354ad334df8>\u001b[0m in \u001b[0;36msparse\u001b[1;34m(imgname1, imgname2, K1, K2)\u001b[0m\n\u001b[0;32m      1\u001b[0m \u001b[1;32mdef\u001b[0m \u001b[0msparse\u001b[0m\u001b[1;33m(\u001b[0m\u001b[0mimgname1\u001b[0m\u001b[1;33m,\u001b[0m \u001b[0mimgname2\u001b[0m\u001b[1;33m,\u001b[0m \u001b[0mK1\u001b[0m\u001b[1;33m,\u001b[0m \u001b[0mK2\u001b[0m\u001b[1;33m)\u001b[0m\u001b[1;33m:\u001b[0m\u001b[1;33m\u001b[0m\u001b[1;33m\u001b[0m\u001b[0m\n\u001b[1;32m----> 2\u001b[1;33m     \u001b[0mpts1\u001b[0m\u001b[1;33m,\u001b[0m \u001b[0mpts2\u001b[0m \u001b[1;33m=\u001b[0m \u001b[0mmatch_pts\u001b[0m\u001b[1;33m(\u001b[0m\u001b[0mimgname1\u001b[0m\u001b[1;33m,\u001b[0m \u001b[0mimgname2\u001b[0m\u001b[1;33m)\u001b[0m\u001b[1;33m\u001b[0m\u001b[1;33m\u001b[0m\u001b[0m\n\u001b[0m\u001b[0;32m      3\u001b[0m     \u001b[0mF\u001b[0m \u001b[1;33m=\u001b[0m \u001b[0mfind_fundamental\u001b[0m\u001b[1;33m(\u001b[0m\u001b[0mpts1\u001b[0m\u001b[1;33m,\u001b[0m \u001b[0mpts2\u001b[0m\u001b[1;33m)\u001b[0m\u001b[1;33m\u001b[0m\u001b[1;33m\u001b[0m\u001b[0m\n\u001b[0;32m      4\u001b[0m     \u001b[0mE\u001b[0m \u001b[1;33m=\u001b[0m \u001b[0mfind_essential\u001b[0m\u001b[1;33m(\u001b[0m\u001b[0mF\u001b[0m\u001b[1;33m,\u001b[0m \u001b[0mK1\u001b[0m\u001b[1;33m,\u001b[0m \u001b[0mK2\u001b[0m\u001b[1;33m)\u001b[0m\u001b[1;33m\u001b[0m\u001b[1;33m\u001b[0m\u001b[0m\n\u001b[0;32m      5\u001b[0m \u001b[1;33m\u001b[0m\u001b[0m\n",
      "\u001b[1;32m<ipython-input-28-9d4db36f09aa>\u001b[0m in \u001b[0;36mmatch_pts\u001b[1;34m(imgname1, imgname2)\u001b[0m\n\u001b[0;32m     15\u001b[0m     \u001b[1;31m# find the keypoints and descriptors with SIFT\u001b[0m\u001b[1;33m\u001b[0m\u001b[1;33m\u001b[0m\u001b[1;33m\u001b[0m\u001b[0m\n\u001b[0;32m     16\u001b[0m     \u001b[0mkp1\u001b[0m\u001b[1;33m,\u001b[0m \u001b[0mdes1\u001b[0m \u001b[1;33m=\u001b[0m \u001b[0msift\u001b[0m\u001b[1;33m.\u001b[0m\u001b[0mdetectAndCompute\u001b[0m\u001b[1;33m(\u001b[0m\u001b[0mimg1\u001b[0m\u001b[1;33m,\u001b[0m\u001b[1;32mNone\u001b[0m\u001b[1;33m)\u001b[0m\u001b[1;33m\u001b[0m\u001b[1;33m\u001b[0m\u001b[0m\n\u001b[1;32m---> 17\u001b[1;33m     \u001b[0mkp2\u001b[0m\u001b[1;33m,\u001b[0m \u001b[0mdes2\u001b[0m \u001b[1;33m=\u001b[0m \u001b[0msift\u001b[0m\u001b[1;33m.\u001b[0m\u001b[0mdetectAndCompute\u001b[0m\u001b[1;33m(\u001b[0m\u001b[0mimg2\u001b[0m\u001b[1;33m,\u001b[0m\u001b[1;32mNone\u001b[0m\u001b[1;33m)\u001b[0m\u001b[1;33m\u001b[0m\u001b[1;33m\u001b[0m\u001b[0m\n\u001b[0m\u001b[0;32m     18\u001b[0m \u001b[1;33m\u001b[0m\u001b[0m\n\u001b[0;32m     19\u001b[0m     \u001b[0mFLANN_INDEX_KDTREE\u001b[0m \u001b[1;33m=\u001b[0m \u001b[1;36m0\u001b[0m\u001b[1;33m\u001b[0m\u001b[1;33m\u001b[0m\u001b[0m\n",
      "\u001b[1;31merror\u001b[0m: OpenCV(3.4.2) C:\\projects\\opencv-python\\opencv_contrib\\modules\\xfeatures2d\\src\\sift.cpp:1121: error: (-5:Bad argument) image is empty or has incorrect depth (!=CV_8U) in function 'cv::xfeatures2d::SIFT_Impl::detectAndCompute'\n"
     ]
    }
   ],
   "source": [
    "def sparse(imgname1, imgname2, K1, K2):\n",
    "    pts1, pts2 = match_pts(imgname1, imgname2)\n",
    "    F = find_fundamental(pts1, pts2)\n",
    "    E = find_essential(F, K1, K2)\n",
    "    \n",
    "    R1, T1, R2, T2 = find_rotation(E, K1, K2, pts1, pts2)\n",
    "    \n",
    "    P1, P2 = find_pose(R1, T1, R2, T2, K1, K2)\n",
    "    \n",
    "    X = triangulate(P1, P2, pts1, pts2)\n",
    "    R = R2\n",
    "    T = T2\n",
    "    \n",
    "    return X, R, T\n",
    "\n",
    "def multi_sparse(imgs, K):\n",
    "    n = len(imgs)\n",
    "    xn = n-1\n",
    "    Xs = []\n",
    "    Rs = []\n",
    "    Ts = []\n",
    "    for i in range(xn):\n",
    "        Xtemp, Rtemp, Ttemp = sparse(imgs[i], imgs[i+1], K, K)\n",
    "        print(i, Xtemp[10:20,])\n",
    "        print(Rtemp, Ttemp)\n",
    "        \n",
    "        Xs.append(Xtemp)\n",
    "        Rs.append(Rtemp)\n",
    "        Ts.append(Ttemp)\n",
    "    \n",
    "    X = Xs[0]\n",
    "\n",
    "    for i in range(1, xn):\n",
    "        newX = Xs[i]\n",
    "        nn = newX.shape[0]\n",
    "        newX = newX.T\n",
    "        for j in range(1, i + 1):\n",
    "            newX = vstack([Rs[i-j].T, Ts[i-j]]).T @ vstack([newX, ones(nn)])\n",
    "        newX = newX.T\n",
    "        X = vstack([X, newX])\n",
    "        \n",
    "    return X\n",
    "    \n",
    "imgs = ['1_.jpg', '2_.jpg', '3_.jpg', '4_.jpg', '5_.jpg', '6_.jpg']\n",
    "X = multi_sparse(imgs, K)\n",
    "print(X.shape)"
   ]
  }
 ],
 "metadata": {
  "kernelspec": {
   "display_name": "Python 3",
   "language": "python",
   "name": "python3"
  },
  "language_info": {
   "codemirror_mode": {
    "name": "ipython",
    "version": 3
   },
   "file_extension": ".py",
   "mimetype": "text/x-python",
   "name": "python",
   "nbconvert_exporter": "python",
   "pygments_lexer": "ipython3",
   "version": "3.7.1"
  }
 },
 "nbformat": 4,
 "nbformat_minor": 2
}
