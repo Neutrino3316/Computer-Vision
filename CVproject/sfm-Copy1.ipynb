{
 "cells": [
  {
   "cell_type": "markdown",
   "metadata": {},
   "source": [
    "## load 参数"
   ]
  },
  {
   "cell_type": "code",
   "execution_count": 84,
   "metadata": {},
   "outputs": [
    {
     "name": "stdout",
     "output_type": "stream",
     "text": [
      "[[ 0.08350702 -0.1611023 ]]\n"
     ]
    }
   ],
   "source": [
    "import numpy as np\n",
    "import cv2\n",
    "import scipy.io as scio\n",
    "\n",
    "Params=scio.loadmat('workspace.mat')\n",
    "K = np.array(Params['K'])\n",
    "K = K.T\n",
    "distortion=np.array(Params['distortion'])\n",
    "print(distortion)"
   ]
  },
  {
   "cell_type": "markdown",
   "metadata": {},
   "source": [
    "## sift特征匹配"
   ]
  },
  {
   "cell_type": "code",
   "execution_count": 48,
   "metadata": {},
   "outputs": [],
   "source": [
    "import numpy as np\n",
    "import cv2\n",
    "from matplotlib import pyplot as plt\n",
    "\n",
    "imgpath = 'images/'\n",
    "MIN_MATCH_COUNT = 10\n",
    "\n",
    "def match_pts(imgname1, imgname2):\n",
    "    img1 = cv2.imread(imgpath+imgname1, 0)          # queryImage\n",
    "    img2 = cv2.imread(imgpath+imgname2, 0)        # trainImage\n",
    "\n",
    "    # Initiate SIFT detector\n",
    "    sift = cv2.xfeatures2d.SIFT_create()\n",
    "\n",
    "    # find the keypoints and descriptors with SIFT\n",
    "    kp1, des1 = sift.detectAndCompute(img1,None)\n",
    "    kp2, des2 = sift.detectAndCompute(img2,None)\n",
    "\n",
    "    FLANN_INDEX_KDTREE = 0\n",
    "    index_params = dict(algorithm = FLANN_INDEX_KDTREE, trees = 5)\n",
    "    search_params = dict(checks = 50)\n",
    "\n",
    "    flann = cv2.FlannBasedMatcher(index_params, search_params)\n",
    "\n",
    "    matches = flann.knnMatch(des1,des2,k=2)\n",
    "\n",
    "    # store all the good matches as per Lowe's ratio test.\n",
    "    good = []\n",
    "    pts1 = []\n",
    "    pts2 = []\n",
    "    \n",
    "    # ratio test as per Lowe's paper\n",
    "    for i,(m,n) in enumerate(matches):\n",
    "        if m.distance < 0.8*n.distance:\n",
    "            good.append(m)\n",
    "            pts2.append(kp2[m.trainIdx].pt)\n",
    "            pts1.append(kp1[m.queryIdx].pt)\n",
    "\n",
    "    pts1 = np.int32(pts1)\n",
    "    pts2 = np.int32(pts2)\n",
    "    # return the np.array type\n",
    "    return pts1, pts2"
   ]
  },
  {
   "cell_type": "markdown",
   "metadata": {},
   "source": [
    "# estimate估计参数"
   ]
  },
  {
   "cell_type": "code",
   "execution_count": 49,
   "metadata": {},
   "outputs": [],
   "source": [
    "from numpy import *\n",
    "from scipy import *\n",
    "from scipy.linalg import *\n",
    "from pylab import *\n",
    "import cv2\n",
    "import sys\n",
    "\n",
    "def find_fundamental(pts1, pts2):\n",
    "    F, mask = cv2.findFundamentalMat(pts1,pts2,cv2.FM_LMEDS)\n",
    "    return F\n",
    "    \n",
    "def find_essential(F, K1, K2):\n",
    "    return K2.T @ F @ K1\n",
    "\n",
    "def skew(a):\n",
    "    #Skew matrix A such that cross(a,v) = Av for any v\n",
    "    return array([[0,-a[2],a[1]],[a[2],0,-a[0]],[-a[1],a[0],0]])\n",
    "\n",
    "def anti_skew(A):\n",
    "    return array([A[2,1], A[2,0], A[1,0]])\n",
    "\n",
    "def triangulate(P1, P2, pts1, pts2):\n",
    "    n1 = pts1.shape[0]\n",
    "    n2 = pts2.shape[0]\n",
    "    \n",
    "    p1 = vstack([ pts1.T, ones(n1) ]).T\n",
    "    p2 = vstack([ pts2.T, ones(n2) ]).T\n",
    "    \n",
    "    P = zeros((n1, 4))\n",
    "    for i in range(n1):\n",
    "        cross1 = skew(p1[i])\n",
    "        cross2 = skew(p2[i])\n",
    "        Q = vstack([cross1 @ P1, cross2 @ P2])\n",
    "        U,S,VT = svd(Q)\n",
    "        z = VT[-1, :]\n",
    "        P[i, :] = z/z[3]\n",
    "    \n",
    "    return P[:, 0:3]\n",
    "\n",
    "def guess_rotation(E):\n",
    "    # make sure E is rank 2\n",
    "    U,S,V = svd(E)\n",
    "    if det(dot(U,V)) < 0:\n",
    "        V = -V\n",
    "    E = dot(U,dot(diag([1,1,0]),V))    \n",
    "\n",
    "    W = array([[0,-1,0],[1,0,0],[0,0,1]])\n",
    "        \n",
    "    R21 = dot(U,dot(W,V))\n",
    "    R22 = dot(U,dot(W.T,V))\n",
    "    \n",
    "    T21 = anti_skew(E @ R21.T) \n",
    "    T22 = anti_skew(E @ R22.T)\n",
    "    \n",
    "    return R21, T21, R22, T22\n",
    "\n",
    "def test_rotation(P1, P2, pts1, pts2):\n",
    "    #temp = cv2.triangulatePoints(P1, P2, transpose(pts1), transpose(pts2))\n",
    "    temp = triangulate(P1, P2, pts1, pts2)\n",
    "    for v in temp:\n",
    "        if v[-1] < 0:\n",
    "            return False\n",
    "    return True\n",
    "    \n",
    "\n",
    "def find_rotation(E, K1, K2, pts1, pts2):\n",
    "    R1 = eye(3)\n",
    "    T1 = array([0, 0, 0])\n",
    "    P1 = K1 @ vstack([R1.T, T1]).T\n",
    "    \n",
    "    R21, T21, R22, T22 = guess_rotation(E)\n",
    "    \n",
    "    P21 = K2 @ vstack([R21.T, T21]).T\n",
    "    P22 = K2 @ vstack([R22.T, T22]).T\n",
    "\n",
    "    key1 = test_rotation(P1, P21, pts1, pts2)\n",
    "    key2 = test_rotation(P1, P22, pts1, pts2)\n",
    "    \n",
    "    R2 = R21\n",
    "    T2 = T21\n",
    "\n",
    "    if key1:\n",
    "        R2 = R21\n",
    "        T2 = T21\n",
    "    elif key2 or True:\n",
    "        R2 = R22\n",
    "        T2 = T22\n",
    "    else:\n",
    "        print('Can not find the right R matrix.')\n",
    "        sys.exit()\n",
    "\n",
    "    return R1, T1, R2, T2\n",
    "    \n",
    "def find_pose(R1, T1, R2, T2, K1, K2):\n",
    "    #return K @ vstack([R.T, T]).T\n",
    "    P1 = K1 @ vstack([R1.T, T1]).T\n",
    "    P2 = K2 @ vstack([R2.T, T2]).T\n",
    "    \n",
    "    return P1, P2\n"
   ]
  },
  {
   "cell_type": "markdown",
   "metadata": {},
   "source": [
    "## 运行"
   ]
  },
  {
   "cell_type": "code",
   "execution_count": 83,
   "metadata": {
    "scrolled": true
   },
   "outputs": [
    {
     "name": "stdout",
     "output_type": "stream",
     "text": [
      "(1340, 2)\n",
      "[[966.23930753   0.         583.67813597]\n",
      " [  0.         964.93489257 723.88506865]\n",
      " [  0.           0.           1.        ]]\n",
      "ok\n",
      "ok\n"
     ]
    }
   ],
   "source": [
    "pts1, pts2 = match_pts('1_.jpg', '2_.jpg')\n",
    "print(pts1.shape)\n",
    "\n",
    "F = find_fundamental(pts1, pts2)\n",
    "E = find_essential(F, K, K)\n",
    "print('ok')\n",
    "\n",
    "R1, T1, R2, T2 = find_rotation(E, K, K, pts1, pts2)\n",
    "print('ok')"
   ]
  },
  {
   "cell_type": "code",
   "execution_count": 51,
   "metadata": {},
   "outputs": [
    {
     "name": "stdout",
     "output_type": "stream",
     "text": [
      "[[1. 0. 0.]\n",
      " [0. 1. 0.]\n",
      " [0. 0. 1.]]\n",
      "[0 0 0]\n",
      "[[ 0.99680378 -0.01337628  0.07876103]\n",
      " [ 0.01358739  0.99990539 -0.00214501]\n",
      " [-0.07872489  0.00320831  0.99689122]]\n",
      "[-0.9751416   0.00491469  0.22152812]\n"
     ]
    }
   ],
   "source": [
    "print(R1, T1, R2, T2, sep='\\n')\n",
    "K1 = K\n",
    "K2 = K\n",
    "P1, P2 = find_pose(R1, T1, R2, T2, K1, K2)\n",
    "points = triangulate(P1, P2, pts1, pts2)\n",
    "#print('the space points:', points[500:510], points[300:310], sep ='\\n---------\\n')\n",
    "\n",
    "points=np.array(points).astype(str)\n",
    "f=open(\"reconstruction.txt\",\"w\")\n",
    "for i in range(1,points.shape[0]):\n",
    "        f.write(points[i][0]+','+points[i][1]+','+points[i][2]+'\\n')\n",
    "f.close()"
   ]
  },
  {
   "cell_type": "code",
   "execution_count": 82,
   "metadata": {},
   "outputs": [
    {
     "data": {
      "image/png": "[encoded data removed]",
      "text/plain": [
       "<Figure size 720x480 with 1 Axes>"
      ]
     },
     "metadata": {
      "needs_background": "light"
     },
     "output_type": "display_data"
    }
   ],
   "source": [
    "import numpy as np\n",
    "import matplotlib.pyplot as plt\n",
    "from mpl_toolkits.mplot3d import Axes3D\n",
    "#打开点云数据文件\n",
    "f=open('reconstruction.txt','r')\n",
    "point=f.read()\n",
    "f.close()\n",
    "#数据预处理\n",
    "l1=point.replace('\\n',',')\n",
    "#将数据以“，”进行分割\n",
    "l2=l1.split(',')\n",
    "l2.pop()\n",
    "#print(l2)\n",
    "#将数据转为矩阵\n",
    "m1=np.array(l2)\n",
    "#print(m1)\n",
    "#变形\n",
    "m2=m1.reshape(int(m1.shape[0]/3),3)\n",
    "#print(m2)\n",
    "m3=[]\n",
    "for each in m2:\n",
    "\teach_line=list(map(lambda x:float(x),each))\n",
    "\tm3.append(each_line)\n",
    "    \n",
    "for i in range (len(m3)):\n",
    "    if i==len(m3)-1:\n",
    "        break\n",
    "    if m3[i][2]<0 or m3[i][2]>50 or m3[i][0]<(-50) or m3[i][0]>50 or m3[i][1]<(-50) or m3[i][1]>50:\n",
    "        del(m3[i])\n",
    " \n",
    "    \n",
    "m4=np.array(m3)\n",
    "\n",
    "#列表解析x,y,z的坐标\n",
    "x=[k[0] for k in m4]\n",
    "y=[k[1] for k in m4]\n",
    "z=[k[2] for k in m4]\n",
    "\n",
    "#开始绘图\n",
    "fig=plt.figure(dpi=120)\n",
    "ax=fig.add_subplot(111,projection='3d')\n",
    "#标题\n",
    "plt.title('point cloud')\n",
    "#利用xyz的值，生成每个点的相应坐标（x,y,z）\n",
    "ax.scatter(x,y,z,c='b',marker='.',s=2,linewidth=0,alpha=1,cmap='spectral')\n",
    "ax.axis('scaled')\n",
    "ax.set_xlabel('X Label')\n",
    "ax.set_ylabel('Y Label')\n",
    "ax.set_zlabel('Z Label')\n",
    "#显示\n",
    "plt.show()"
   ]
  },
  {
   "cell_type": "markdown",
   "metadata": {},
   "source": [
    "## MVS多图"
   ]
  },
  {
   "cell_type": "code",
   "execution_count": 52,
   "metadata": {},
   "outputs": [],
   "source": [
    "def stereoAndTranslation(imgname1, imgname2):\n",
    "    pts1, pts2 = match_pts(imgname1, imgname2)\n",
    "\n",
    "    F = find_fundamental(pts1, pts2)\n",
    "    E = find_essential(F, K, K)\n",
    "    R1, T1, R2, T2 = find_rotation(E, K, K, pts1, pts2)\n",
    "    \n",
    "    R = R2\n",
    "    T = T2\n",
    "    return X, R, T"
   ]
  }
 ],
 "metadata": {
  "kernelspec": {
   "display_name": "Python 3",
   "language": "python",
   "name": "python3"
  },
  "language_info": {
   "codemirror_mode": {
    "name": "ipython",
    "version": 3
   },
   "file_extension": ".py",
   "mimetype": "text/x-python",
   "name": "python",
   "nbconvert_exporter": "python",
   "pygments_lexer": "ipython3",
   "version": "3.7.1"
  }
 },
 "nbformat": 4,
 "nbformat_minor": 2
}
