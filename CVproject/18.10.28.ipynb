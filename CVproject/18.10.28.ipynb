{
 "cells": [
  {
   "cell_type": "code",
   "execution_count": 1,
   "metadata": {},
   "outputs": [],
   "source": [
    "from scipy.io import loadmat"
   ]
  },
  {
   "cell_type": "code",
   "execution_count": 2,
   "metadata": {},
   "outputs": [],
   "source": [
    "x = loadmat('cameraParams_50mm.mat')"
   ]
  },
  {
   "cell_type": "code",
   "execution_count": 3,
   "metadata": {},
   "outputs": [
    {
     "data": {
      "text/plain": [
       "{'__header__': b'MATLAB 5.0 MAT-file, Platform: PCWIN64, Created on: Sat Oct 27 11:22:41 2018',\n",
       " '__version__': '1.0',\n",
       " '__globals__': [],\n",
       " 'None': MatlabOpaque([(b'cameraParams_50mm', b'MCOS', b'cameraParameters', array([[3707764736],\n",
       "        [         2],\n",
       "        [         1],\n",
       "        [         1],\n",
       "        [         1],\n",
       "        [         1]], dtype=uint32))],\n",
       "              dtype=[('s0', 'O'), ('s1', 'O'), ('s2', 'O'), ('arr', 'O')]),\n",
       " '__function_workspace__': array([[ 0,  1, 73, ...,  0,  0,  0]], dtype=uint8)}"
      ]
     },
     "execution_count": 3,
     "metadata": {},
     "output_type": "execute_result"
    }
   ],
   "source": [
    "x"
   ]
  },
  {
   "cell_type": "code",
   "execution_count": 4,
   "metadata": {},
   "outputs": [
    {
     "data": {
      "text/plain": [
       "MatlabOpaque([(b'cameraParams_50mm', b'MCOS', b'cameraParameters', array([[3707764736],\n",
       "       [         2],\n",
       "       [         1],\n",
       "       [         1],\n",
       "       [         1],\n",
       "       [         1]], dtype=uint32))],\n",
       "             dtype=[('s0', 'O'), ('s1', 'O'), ('s2', 'O'), ('arr', 'O')])"
      ]
     },
     "execution_count": 4,
     "metadata": {},
     "output_type": "execute_result"
    }
   ],
   "source": [
    "x['None']"
   ]
  },
  {
   "cell_type": "code",
   "execution_count": 8,
   "metadata": {},
   "outputs": [
    {
     "data": {
      "text/plain": [
       "[(b'cameraParams_50mm', b'MCOS', b'cameraParameters', array([[3707764736],\n",
       "        [         2],\n",
       "        [         1],\n",
       "        [         1],\n",
       "        [         1],\n",
       "        [         1]], dtype=uint32))]"
      ]
     },
     "execution_count": 8,
     "metadata": {},
     "output_type": "execute_result"
    }
   ],
   "source": [
    "list(x['None'])"
   ]
  },
  {
   "cell_type": "code",
   "execution_count": null,
   "metadata": {},
   "outputs": [],
   "source": []
  }
 ],
 "metadata": {
  "kernelspec": {
   "display_name": "Python 3",
   "language": "python",
   "name": "python3"
  },
  "language_info": {
   "codemirror_mode": {
    "name": "ipython",
    "version": 3
   },
   "file_extension": ".py",
   "mimetype": "text/x-python",
   "name": "python",
   "nbconvert_exporter": "python",
   "pygments_lexer": "ipython3",
   "version": "3.7.1"
  }
 },
 "nbformat": 4,
 "nbformat_minor": 2
}
