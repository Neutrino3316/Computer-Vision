{
 "cells": [
  {
   "cell_type": "markdown",
   "metadata": {},
   "source": [
    "## load参数 "
   ]
  },
  {
   "cell_type": "code",
   "execution_count": 71,
   "metadata": {},
   "outputs": [],
   "source": [
    "import numpy as np\n",
    "import cv2\n",
    "import scipy.io as scio\n",
    "\n",
    "Params=scio.loadmat('workspace.mat')\n",
    "K = np.array(Params['K'])\n",
    "K = K.T\n",
    "distortion=np.array(Params['distortion'])\n",
    "f = 50\n",
    "\n",
    "K = np.array([[K[1,1], K[1,0], K[1,2]], [K[0,1], K[0,0], K[0,2]], K[2,:]])"
   ]
  },
  {
   "cell_type": "markdown",
   "metadata": {},
   "source": [
    "## sift特征匹配"
   ]
  },
  {
   "cell_type": "code",
   "execution_count": 72,
   "metadata": {},
   "outputs": [],
   "source": [
    "import numpy as np\n",
    "import cv2\n",
    "from matplotlib import pyplot as plt\n",
    "\n",
    "imgpath = 'images/'\n",
    "MIN_MATCH_COUNT = 10\n",
    "\n",
    "def match_pts(imgname1, imgname2):\n",
    "    img1 = cv2.imread(imgpath+imgname1, 0)          # queryImage\n",
    "    img2 = cv2.imread(imgpath+imgname2, 0)        # trainImage\n",
    "\n",
    "    # Initiate SIFT detector\n",
    "    sift = cv2.xfeatures2d.SIFT_create()\n",
    "\n",
    "    # find the keypoints and descriptors with SIFT\n",
    "    kp1, des1 = sift.detectAndCompute(img1,None)\n",
    "    kp2, des2 = sift.detectAndCompute(img2,None)\n",
    "\n",
    "    FLANN_INDEX_KDTREE = 0\n",
    "    index_params = dict(algorithm = FLANN_INDEX_KDTREE, trees = 5)\n",
    "    search_params = dict(checks = 50)\n",
    "\n",
    "    flann = cv2.FlannBasedMatcher(index_params, search_params)\n",
    "\n",
    "    matches = flann.knnMatch(des1,des2,k=2)\n",
    "\n",
    "    # store all the good matches as per Lowe's ratio test.\n",
    "    good = []\n",
    "    pts1 = []\n",
    "    pts2 = []\n",
    "    \n",
    "    # ratio test as per Lowe's paper\n",
    "    for i,(m,n) in enumerate(matches):\n",
    "        if m.distance < 0.8*n.distance:\n",
    "            good.append(m)\n",
    "            pts2.append(kp2[m.trainIdx].pt)\n",
    "            pts1.append(kp1[m.queryIdx].pt)\n",
    "\n",
    "    pts1 = np.int32(pts1)\n",
    "    pts2 = np.int32(pts2)\n",
    "    # return the np.array type\n",
    "    return pts1, pts2"
   ]
  },
  {
   "cell_type": "markdown",
   "metadata": {},
   "source": [
    "## estimate外部参数"
   ]
  },
  {
   "cell_type": "code",
   "execution_count": 73,
   "metadata": {},
   "outputs": [],
   "source": [
    "from numpy import *\n",
    "from numpy.linalg import *\n",
    "import sys\n",
    "def computePoints(pts, K, f):\n",
    "    pn = pts.shape[0]\n",
    "    pts = pts.T\n",
    "    pts = vstack([pts, ones(pn)])\n",
    "    \n",
    "    pcam = zeros((3, pn))\n",
    "    \n",
    "    for i in range(pn):\n",
    "        pcam[:, i] = f * solve(K, pts[:, i])\n",
    "    \n",
    "    pcam = pcam.T\n",
    "    return pcam\n",
    "    \n",
    "\n",
    "def findEssential(pcam1, pcam2):\n",
    "    n1 = pcam1.shape[0]\n",
    "    n2 = pcam2.shape[0]\n",
    "    if n1 != n2:\n",
    "        print('Error: not the same dimensions.')\n",
    "        sys.exit()\n",
    "    \n",
    "    A = zeros((n1, 9))\n",
    "    for i in range(9):\n",
    "        A[i,:] = [y*x for x in pcam1[i] for y in pcam2[i]]\n",
    "    U,S,Vt = svd(A)\n",
    "    E = Vt[-1, :]\n",
    "    E = E.reshape(3, 3)\n",
    "    return E\n",
    "\n",
    "def findEssentialMat(pts1, pts2, K1, K2):\n",
    "    F, mask = cv2.findFundamentalMat(pts1,pts2,cv2.FM_LMEDS)\n",
    "    E = K2.T @ F @ K1\n",
    "    return E\n",
    "\n",
    "def skew(a):\n",
    "    return array([[0,-a[2],a[1]],[a[2],0,-a[0]],[-a[1],a[0],0]])\n",
    "\n",
    "def anti_skew(A):\n",
    "    if (3,3) != A.shape:\n",
    "        print('Error: wrong dimension to anti_skew.')\n",
    "        sys.exit()\n",
    "        \n",
    "    if abs(A[0,0])+abs(A[1,1])+abs(A[2,2]) > 0.001:\n",
    "        return False\n",
    "    if abs(A[2,1]+A[1,2])/abs(A[2,1]) + abs(A[0,2]+A[2,0])/abs(A[0,2]) + abs(A[1,0]+A[0,1])/abs(A[1,0]) > 0.1:\n",
    "        return False\n",
    "    \n",
    "    x = (A[2,1] - A[1,2]) / 2\n",
    "    y = (A[0,2] - A[2,0]) / 2\n",
    "    z = (A[1,0] - A[0,1]) / 2\n",
    "    return array([x, y, z])\n",
    "\n",
    "def triangulate(P1, P2, pts1, pts2):\n",
    "    n1 = pts1.shape[0]\n",
    "    n2 = pts2.shape[0]\n",
    "    \n",
    "    p1 = vstack([ pts1.T, ones(n1) ]).T\n",
    "    p2 = vstack([ pts2.T, ones(n2) ]).T\n",
    "    \n",
    "    P = zeros((n1, 4))\n",
    "    for i in range(n1):\n",
    "        cross1 = skew(p1[i])\n",
    "        cross2 = skew(p2[i])\n",
    "        Q = vstack([cross1 @ P1, cross2 @ P2])\n",
    "        U,S,VT = svd(Q)\n",
    "        z = VT[-1, :]\n",
    "        P[i, :] = z/z[3]\n",
    "    return P[:, 0:3]\n",
    "\n",
    "def computeRT(E):\n",
    "    U,S,V = svd(E)\n",
    "    if det(dot(U,V)) < 0:\n",
    "        V = -V\n",
    "    E = dot(U,dot(diag([1,1,0]),V))    \n",
    "\n",
    "    W = array([[0,-1,0],[1,0,0],[0,0,1]])\n",
    "        \n",
    "    R21 = dot(U,dot(W,V))\n",
    "    R22 = dot(U,dot(W.T,V))\n",
    "    \n",
    "    T21 = anti_skew(E @ R21.T)\n",
    "    T22 = anti_skew(E @ R22.T)\n",
    "    \n",
    "    R2 = eye(3)\n",
    "    T2 = zeros(3)\n",
    "    if R21[0,0] > 0 and R21[1,1] > 0 and R22[2,2] > 0:\n",
    "        R2 = R21\n",
    "        T2 = T21\n",
    "    else:\n",
    "        R2 = R22\n",
    "        T2 = T22\n",
    "        \n",
    "    if T2[1] > 0:\n",
    "        T2 = -T2\n",
    "        \n",
    "    return R2, T2\n",
    "\n",
    "def findPose(R, T, K):\n",
    "    P = K @ vstack([R.T, T]).T\n",
    "    return P"
   ]
  },
  {
   "cell_type": "code",
   "execution_count": 74,
   "metadata": {},
   "outputs": [],
   "source": [
    "pts1, pts2 = match_pts('1.jpg', '2.jpg')\n",
    "pts3, pts4 = match_pts('2.jpg', '3.jpg')\n"
   ]
  },
  {
   "cell_type": "code",
   "execution_count": 75,
   "metadata": {},
   "outputs": [
    {
     "name": "stdout",
     "output_type": "stream",
     "text": [
      "(884, 2) (963, 2)\n",
      "4\n",
      "[[403, 639], [441, 586], [505, 300], [541, 288]]\n"
     ]
    }
   ],
   "source": [
    "samepts=[]\n",
    "for x,y in zip(pts2, pts3):\n",
    "    if x[1] == y[1] and x[0] == y[0]:\n",
    "        samepts.append(x.tolist())\n",
    "print(pts2.shape, pts3.shape)\n",
    "print(len(samepts))\n",
    "print(samepts)"
   ]
  },
  {
   "cell_type": "code",
   "execution_count": 77,
   "metadata": {},
   "outputs": [
    {
     "name": "stdout",
     "output_type": "stream",
     "text": [
      "(884, 2)\n",
      "[[ 0.99779212  0.03171416  0.05835329]\n",
      " [-0.03073256  0.99937192 -0.01764317]\n",
      " [-0.05887618  0.01581087  0.99814008]]\n",
      "[[ 1.00000000e+00 -1.48535698e-17  5.55111512e-17]\n",
      " [-1.48535698e-17  1.00000000e+00  3.67761377e-16]\n",
      " [ 5.55111512e-17  3.67761377e-16  1.00000000e+00]]\n",
      "[ 0.99196163 -0.10551528  0.06984734]\n"
     ]
    }
   ],
   "source": [
    "print(pts1.shape)\n",
    "\n",
    "K1 = K; K2 = K\n",
    "pcam1 = computePoints(pts1, K1, f)\n",
    "pcam2 = computePoints(pts2, K2, f)\n",
    "#E = findEssential(pcam1, pcam2)\n",
    "E = findEssentialMat(pts1, pts2, K1, K2)\n",
    "\n",
    "R2, T2 = computeRT(E)\n",
    "print(R2)\n",
    "print(R2.T @ R2, T2, sep='\\n')"
   ]
  },
  {
   "cell_type": "markdown",
   "metadata": {},
   "source": [
    "## sparse稀疏点云"
   ]
  },
  {
   "cell_type": "code",
   "execution_count": 76,
   "metadata": {},
   "outputs": [],
   "source": [
    "from numpy import *\n",
    "from numpy.linalg import *\n",
    "import sys\n",
    "def sparse(imgname1, imgname2, K1, K2):\n",
    "    pts1, pts2 = match_pts(imgname1, imgname2)\n",
    "    pcam1 = computePoints(pts1, K1, f)\n",
    "    pcam2 = computePoints(pts2, K2, f)\n",
    "    \n",
    "    E = findEssentialMat(pts1, pts2, K1, K2)\n",
    "    \n",
    "    R1 = eye(3)\n",
    "    T1 = zeros(3)\n",
    "    R2, T2 = computeRT(E)\n",
    "    \n",
    "    P1 = findPose(R1, T1, K1)\n",
    "    P2 = findPose(R2, T2, K2)\n",
    "    \n",
    "    X = triangulate(P1, P2, pts1, pts2)\n",
    "    R = R2\n",
    "    T = T2\n",
    "    \n",
    "    return X, R, T\n",
    "\n"
   ]
  },
  {
   "cell_type": "code",
   "execution_count": 79,
   "metadata": {
    "scrolled": true
   },
   "outputs": [
    {
     "name": "stdout",
     "output_type": "stream",
     "text": [
      "(683, 3)\n",
      "(878, 3)\n"
     ]
    },
    {
     "data": {
      "image/png": "[encoded data removed]",
      "text/plain": [
       "<Figure size 432x288 with 1 Axes>"
      ]
     },
     "metadata": {
      "needs_background": "light"
     },
     "output_type": "display_data"
    }
   ],
   "source": [
    "X1, R1, T1 = sparse('1.jpg', '2.jpg', K, K)\n",
    "X2, R2, T2 = sparse('2.jpg', '3.jpg', K, K)\n",
    "\n",
    "print(X1.shape)\n",
    "print(X2.shape)\n",
    "\n",
    "import matplotlib.pyplot as plt \n",
    "from mpl_toolkits.mplot3d import Axes3D\n",
    "fig = plt.figure() \n",
    "ax = fig.add_subplot(111, projection='3d') \n",
    "\n",
    "ax.scatter(X1[:,0], X1[:,1], X1[:,2])\n",
    "ax.scatter(X2[:,0], X2[:,1], X2[:,2])\n",
    "plt.xlim([-10, 10])\n",
    "plt.ylim([-10, 10])\n",
    "\n",
    "plt.show()"
   ]
  },
  {
   "cell_type": "code",
   "execution_count": 70,
   "metadata": {},
   "outputs": [
    {
     "ename": "NameError",
     "evalue": "name 'X3' is not defined",
     "output_type": "error",
     "traceback": [
      "\u001b[1;31m---------------------------------------------------------------------------\u001b[0m",
      "\u001b[1;31mNameError\u001b[0m                                 Traceback (most recent call last)",
      "\u001b[1;32m<ipython-input-70-7be16652e07e>\u001b[0m in \u001b[0;36m<module>\u001b[1;34m\u001b[0m\n\u001b[0;32m      3\u001b[0m \u001b[0mX2\u001b[0m \u001b[1;33m=\u001b[0m \u001b[0mX2\u001b[0m\u001b[1;33m.\u001b[0m\u001b[0mT\u001b[0m\u001b[1;33m\u001b[0m\u001b[1;33m\u001b[0m\u001b[0m\n\u001b[0;32m      4\u001b[0m \u001b[1;33m\u001b[0m\u001b[0m\n\u001b[1;32m----> 5\u001b[1;33m \u001b[0mn3\u001b[0m \u001b[1;33m=\u001b[0m \u001b[0mX3\u001b[0m\u001b[1;33m.\u001b[0m\u001b[0mshape\u001b[0m\u001b[1;33m[\u001b[0m\u001b[1;36m0\u001b[0m\u001b[1;33m]\u001b[0m\u001b[1;33m\u001b[0m\u001b[1;33m\u001b[0m\u001b[0m\n\u001b[0m\u001b[0;32m      6\u001b[0m \u001b[0mX3\u001b[0m \u001b[1;33m=\u001b[0m \u001b[1;33m(\u001b[0m\u001b[0mvstack\u001b[0m\u001b[1;33m(\u001b[0m\u001b[1;33m[\u001b[0m\u001b[0mR2\u001b[0m\u001b[1;33m.\u001b[0m\u001b[0mT\u001b[0m\u001b[1;33m,\u001b[0m \u001b[0mT2\u001b[0m\u001b[1;33m]\u001b[0m\u001b[1;33m)\u001b[0m\u001b[1;33m)\u001b[0m\u001b[1;33m.\u001b[0m\u001b[0mT\u001b[0m \u001b[1;33m@\u001b[0m \u001b[0mvstack\u001b[0m\u001b[1;33m(\u001b[0m\u001b[1;33m[\u001b[0m\u001b[0mX3\u001b[0m\u001b[1;33m.\u001b[0m\u001b[0mT\u001b[0m\u001b[1;33m,\u001b[0m \u001b[0mones\u001b[0m\u001b[1;33m(\u001b[0m\u001b[0mn3\u001b[0m\u001b[1;33m)\u001b[0m\u001b[1;33m]\u001b[0m\u001b[1;33m)\u001b[0m\u001b[1;33m\u001b[0m\u001b[1;33m\u001b[0m\u001b[0m\n\u001b[0;32m      7\u001b[0m \u001b[0mX3\u001b[0m \u001b[1;33m=\u001b[0m \u001b[0mX3\u001b[0m\u001b[1;33m.\u001b[0m\u001b[0mT\u001b[0m\u001b[1;33m\u001b[0m\u001b[1;33m\u001b[0m\u001b[0m\n",
      "\u001b[1;31mNameError\u001b[0m: name 'X3' is not defined"
     ]
    }
   ],
   "source": [
    "n2 = X2.shape[0]\n",
    "X2 = (vstack([R1.T, T1])).T @ vstack([X2.T, ones(n2)])\n",
    "X2 = X2.T\n",
    "\n",
    "n3 = X3.shape[0]\n",
    "X3 = (vstack([R2.T, T2])).T @ vstack([X3.T, ones(n3)])\n",
    "X3 = X3.T\n",
    "X3 = (vstack([R1.T, T1])).T @ vstack([X3.T, ones(n3)])\n",
    "X3 = X3.T\n",
    "\n",
    "fig = plt.figure() \n",
    "ax = fig.add_subplot(111, projection='3d') \n",
    "\n",
    "ax.scatter(X1[:,0], X1[:,1], X1[:,2])\n",
    "ax.scatter(X2[:,0], X2[:,1], X2[:,2])\n",
    "ax.scatter(X3[:,0], X3[:,1], X3[:,2])\n",
    "plt.xlim([-10, 10])\n",
    "plt.ylim([-10, 10])\n",
    "\n",
    "plt.show()"
   ]
  }
 ],
 "metadata": {
  "kernelspec": {
   "display_name": "Python 3",
   "language": "python",
   "name": "python3"
  },
  "language_info": {
   "codemirror_mode": {
    "name": "ipython",
    "version": 3
   },
   "file_extension": ".py",
   "mimetype": "text/x-python",
   "name": "python",
   "nbconvert_exporter": "python",
   "pygments_lexer": "ipython3",
   "version": "3.7.1"
  }
 },
 "nbformat": 4,
 "nbformat_minor": 2
}
