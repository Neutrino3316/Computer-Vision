{
 "cells": [
  {
   "cell_type": "markdown",
   "metadata": {},
   "source": [
    "## load 参数"
   ]
  },
  {
   "cell_type": "code",
   "execution_count": 1,
   "metadata": {},
   "outputs": [],
   "source": [
    "import numpy as np\n",
    "import cv2\n",
    "import scipy.io as scio\n",
    "\n",
    "Params=scio.loadmat('workspace.mat')\n",
    "K = np.array(Params['K'])\n",
    "K = K.T\n",
    "distortion=np.array(Params['distortion'])"
   ]
  },
  {
   "cell_type": "markdown",
   "metadata": {},
   "source": [
    "## sift特征匹配"
   ]
  },
  {
   "cell_type": "code",
   "execution_count": 2,
   "metadata": {},
   "outputs": [],
   "source": [
    "import numpy as np\n",
    "import cv2\n",
    "from matplotlib import pyplot as plt\n",
    "\n",
    "imgpath = 'images/'\n",
    "MIN_MATCH_COUNT = 10\n",
    "\n",
    "def match_pts(imgname1, imgname2):\n",
    "    img1 = cv2.imread(imgpath+imgname1, 0)          # queryImage\n",
    "    img2 = cv2.imread(imgpath+imgname2, 0)        # trainImage\n",
    "\n",
    "    # Initiate SIFT detector\n",
    "    sift = cv2.xfeatures2d.SIFT_create()\n",
    "\n",
    "    # find the keypoints and descriptors with SIFT\n",
    "    kp1, des1 = sift.detectAndCompute(img1,None)\n",
    "    kp2, des2 = sift.detectAndCompute(img2,None)\n",
    "\n",
    "    FLANN_INDEX_KDTREE = 0\n",
    "    index_params = dict(algorithm = FLANN_INDEX_KDTREE, trees = 5)\n",
    "    search_params = dict(checks = 50)\n",
    "\n",
    "    flann = cv2.FlannBasedMatcher(index_params, search_params)\n",
    "\n",
    "    matches = flann.knnMatch(des1,des2,k=2)\n",
    "\n",
    "    # store all the good matches as per Lowe's ratio test.\n",
    "    good = []\n",
    "    pts1 = []\n",
    "    pts2 = []\n",
    "    \n",
    "    # ratio test as per Lowe's paper\n",
    "    for i,(m,n) in enumerate(matches):\n",
    "        if m.distance < 0.8*n.distance:\n",
    "            good.append(m)\n",
    "            pts2.append(kp2[m.trainIdx].pt)\n",
    "            pts1.append(kp1[m.queryIdx].pt)\n",
    "\n",
    "    pts1 = np.int32(pts1)\n",
    "    pts2 = np.int32(pts2)\n",
    "    # return the np.array type\n",
    "    return pts1, pts2"
   ]
  },
  {
   "cell_type": "markdown",
   "metadata": {},
   "source": [
    "## E F 矩阵 "
   ]
  },
  {
   "cell_type": "code",
   "execution_count": 3,
   "metadata": {},
   "outputs": [],
   "source": [
    "from numpy import *\n",
    "from scipy import *\n",
    "from scipy.linalg import *\n",
    "from pylab import *\n",
    "import cv2\n",
    "\n",
    "def find_fundamental(pts1, pts2):\n",
    "    F, mask = cv2.findFundamentalMat(pts1,pts2,cv2.FM_LMEDS)\n",
    "    return F\n",
    "    \n",
    "def find_essential(F, K1, K2):\n",
    "    return K2.T @ F @ K1\n",
    "\n",
    "def skew(a):\n",
    "    #Skew matrix A such that cross(a,v) = Av for any v\n",
    "    return array([[0,-a[2],a[1]],[a[2],0,-a[0]],[-a[1],a[0],0]])\n",
    "\n",
    "def anti_skew(A):\n",
    "    return array([A[2,1], A[2,0], A[1,0]])\n",
    "\n",
    "def find_rotation(E, pts1, pts2, K1, K2):\n",
    "    # make sure E is rank 2\n",
    "    U,S,V = svd(E)\n",
    "    if det(dot(U,V)) < 0:\n",
    "        V = -V\n",
    "    E = dot(U,dot(diag([1,1,0]),V))    \n",
    "\n",
    "    W = array([[0,-1,0],[1,0,0],[0,0,1]])\n",
    "    \n",
    "    R1 = eye(3)\n",
    "    T1 = array([0, 0, 0])\n",
    "    P1 = K1 @ vstack([R1.T, T1]).T\n",
    "    \n",
    "    R21 = dot(U,dot(W,V))\n",
    "    R22 = dot(U,dot(W.T,V))\n",
    "    \n",
    "    T21 = anti_skew(E @ R21.T) \n",
    "    T22 = anti_skew(E @ R22.T)\n",
    "    \n",
    "    P21 = K2 @ vstack([R21.T, T21]).T\n",
    "    P22 = K2 @ vstack([R22.T, T22]).T\n",
    "\n",
    "    temp1 = cv2.triangulatePoints(P1, P21, transpose(pts1), transpose(pts2))\n",
    "    temp2 = cv2.triangulatePoints(P1, P22, transpose(pts1), transpose(pts2))\n",
    "    \n",
    "    print(temp1.shape)\n",
    "    \n",
    "    R2 = R21\n",
    "    T2 = T21\n",
    "    \n",
    "    return R1, T1, R2, T2\n",
    "\n",
    "def find_pose(R, T, K):\n",
    "    return K @ vstack([R.T, T]).T\n",
    "\n",
    "\n",
    " "
   ]
  },
  {
   "cell_type": "markdown",
   "metadata": {},
   "source": [
    "## 运行"
   ]
  },
  {
   "cell_type": "code",
   "execution_count": null,
   "metadata": {},
   "outputs": [],
   "source": [
    "pts1, pts2 = match_pts('shoe_orange1.jpg', 'shoe_orange2.jpg')\n",
    "F = find_fundamental(pts1, pts2)\n",
    "E = find_essential(F, K, K)\n",
    "\n",
    "\n",
    "find_rotation(E, pts1, pts2, K, K)\n",
    "#P = find_pose(E)"
   ]
  },
  {
   "cell_type": "code",
   "execution_count": null,
   "metadata": {},
   "outputs": [],
   "source": []
  }
 ],
 "metadata": {
  "kernelspec": {
   "display_name": "Python 3",
   "language": "python",
   "name": "python3"
  },
  "language_info": {
   "codemirror_mode": {
    "name": "ipython",
    "version": 3
   },
   "file_extension": ".py",
   "mimetype": "text/x-python",
   "name": "python",
   "nbconvert_exporter": "python",
   "pygments_lexer": "ipython3",
   "version": "3.7.1"
  }
 },
 "nbformat": 4,
 "nbformat_minor": 2
}
